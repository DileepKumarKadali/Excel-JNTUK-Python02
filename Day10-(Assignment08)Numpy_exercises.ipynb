{
 "cells": [
  {
   "cell_type": "markdown",
   "metadata": {},
   "source": [
    "# Day10 Assignment09 Submitted by Mr. Dileep Kumar Kadali\n",
    "## Assistant Professor, CSE Department,\n",
    "### Swarnandhra College of Engineering and Technology (A2)\n",
    "\n",
    "\n",
    "# Assignment questions for Numpy"
   ]
  },
  {
   "cell_type": "markdown",
   "metadata": {},
   "source": [
    "#### 1. Import the numpy package under the name `np` (★☆☆)"
   ]
  },
  {
   "cell_type": "code",
   "execution_count": 1,
   "metadata": {},
   "outputs": [],
   "source": [
    "import numpy as np"
   ]
  },
  {
   "cell_type": "markdown",
   "metadata": {},
   "source": [
    "#### 2. Print the numpy version and the configuration (★☆☆)"
   ]
  },
  {
   "cell_type": "code",
   "execution_count": 2,
   "metadata": {},
   "outputs": [
    {
     "name": "stdout",
     "output_type": "stream",
     "text": [
      "1.18.1\n",
      "blas_mkl_info:\n",
      "    libraries = ['mkl_rt']\n",
      "    library_dirs = ['C:/ProgramData/Anaconda3\\\\Library\\\\lib']\n",
      "    define_macros = [('SCIPY_MKL_H', None), ('HAVE_CBLAS', None)]\n",
      "    include_dirs = ['C:\\\\Program Files (x86)\\\\IntelSWTools\\\\compilers_and_libraries_2019.0.117\\\\windows\\\\mkl', 'C:\\\\Program Files (x86)\\\\IntelSWTools\\\\compilers_and_libraries_2019.0.117\\\\windows\\\\mkl\\\\include', 'C:\\\\Program Files (x86)\\\\IntelSWTools\\\\compilers_and_libraries_2019.0.117\\\\windows\\\\mkl\\\\lib', 'C:/ProgramData/Anaconda3\\\\Library\\\\include']\n",
      "blas_opt_info:\n",
      "    libraries = ['mkl_rt']\n",
      "    library_dirs = ['C:/ProgramData/Anaconda3\\\\Library\\\\lib']\n",
      "    define_macros = [('SCIPY_MKL_H', None), ('HAVE_CBLAS', None)]\n",
      "    include_dirs = ['C:\\\\Program Files (x86)\\\\IntelSWTools\\\\compilers_and_libraries_2019.0.117\\\\windows\\\\mkl', 'C:\\\\Program Files (x86)\\\\IntelSWTools\\\\compilers_and_libraries_2019.0.117\\\\windows\\\\mkl\\\\include', 'C:\\\\Program Files (x86)\\\\IntelSWTools\\\\compilers_and_libraries_2019.0.117\\\\windows\\\\mkl\\\\lib', 'C:/ProgramData/Anaconda3\\\\Library\\\\include']\n",
      "lapack_mkl_info:\n",
      "    libraries = ['mkl_rt']\n",
      "    library_dirs = ['C:/ProgramData/Anaconda3\\\\Library\\\\lib']\n",
      "    define_macros = [('SCIPY_MKL_H', None), ('HAVE_CBLAS', None)]\n",
      "    include_dirs = ['C:\\\\Program Files (x86)\\\\IntelSWTools\\\\compilers_and_libraries_2019.0.117\\\\windows\\\\mkl', 'C:\\\\Program Files (x86)\\\\IntelSWTools\\\\compilers_and_libraries_2019.0.117\\\\windows\\\\mkl\\\\include', 'C:\\\\Program Files (x86)\\\\IntelSWTools\\\\compilers_and_libraries_2019.0.117\\\\windows\\\\mkl\\\\lib', 'C:/ProgramData/Anaconda3\\\\Library\\\\include']\n",
      "lapack_opt_info:\n",
      "    libraries = ['mkl_rt']\n",
      "    library_dirs = ['C:/ProgramData/Anaconda3\\\\Library\\\\lib']\n",
      "    define_macros = [('SCIPY_MKL_H', None), ('HAVE_CBLAS', None)]\n",
      "    include_dirs = ['C:\\\\Program Files (x86)\\\\IntelSWTools\\\\compilers_and_libraries_2019.0.117\\\\windows\\\\mkl', 'C:\\\\Program Files (x86)\\\\IntelSWTools\\\\compilers_and_libraries_2019.0.117\\\\windows\\\\mkl\\\\include', 'C:\\\\Program Files (x86)\\\\IntelSWTools\\\\compilers_and_libraries_2019.0.117\\\\windows\\\\mkl\\\\lib', 'C:/ProgramData/Anaconda3\\\\Library\\\\include']\n",
      "None\n"
     ]
    }
   ],
   "source": [
    "print(np.__version__)\n",
    "print(np.show_config())"
   ]
  },
  {
   "cell_type": "markdown",
   "metadata": {},
   "source": [
    "#### 3. Create a null vector of size 10 (★☆☆)"
   ]
  },
  {
   "cell_type": "code",
   "execution_count": 3,
   "metadata": {},
   "outputs": [
    {
     "data": {
      "text/plain": [
       "array([0., 0., 0., 0., 0., 0., 0., 0., 0., 0.])"
      ]
     },
     "execution_count": 3,
     "metadata": {},
     "output_type": "execute_result"
    }
   ],
   "source": [
    "arr = np.zeros(10)\n",
    "arr"
   ]
  },
  {
   "cell_type": "markdown",
   "metadata": {},
   "source": [
    "#### 4. How to find the size of any array (★☆☆)"
   ]
  },
  {
   "cell_type": "code",
   "execution_count": 4,
   "metadata": {},
   "outputs": [
    {
     "data": {
      "text/plain": [
       "10"
      ]
     },
     "execution_count": 4,
     "metadata": {},
     "output_type": "execute_result"
    }
   ],
   "source": [
    "len(arr)"
   ]
  },
  {
   "cell_type": "markdown",
   "metadata": {},
   "source": [
    "#### 5. Create a null vector of size 10(★☆☆)"
   ]
  },
  {
   "cell_type": "code",
   "execution_count": 5,
   "metadata": {},
   "outputs": [
    {
     "data": {
      "text/plain": [
       "array([0., 0., 0., 0., 0., 0., 0., 0., 0., 0.])"
      ]
     },
     "execution_count": 5,
     "metadata": {},
     "output_type": "execute_result"
    }
   ],
   "source": [
    "arr1 = np.zeros(10)\n",
    "arr1"
   ]
  },
  {
   "cell_type": "markdown",
   "metadata": {},
   "source": [
    "#### 6. Create a vector with values ranging from 10 to 49 (★☆☆)"
   ]
  },
  {
   "cell_type": "code",
   "execution_count": 6,
   "metadata": {},
   "outputs": [
    {
     "data": {
      "text/plain": [
       "array([10, 11, 12, 13, 14, 15, 16, 17, 18, 19, 20, 21, 22, 23, 24, 25, 26,\n",
       "       27, 28, 29, 30, 31, 32, 33, 34, 35, 36, 37, 38, 39, 40, 41, 42, 43,\n",
       "       44, 45, 46, 47, 48, 49])"
      ]
     },
     "execution_count": 6,
     "metadata": {},
     "output_type": "execute_result"
    }
   ],
   "source": [
    "arr2 = 10 + np.arange(40)\n",
    "arr2"
   ]
  },
  {
   "cell_type": "markdown",
   "metadata": {},
   "source": [
    "#### 7. Create a 3x3 matrix with values ranging from 0 to 8 (★☆☆)"
   ]
  },
  {
   "cell_type": "code",
   "execution_count": 7,
   "metadata": {},
   "outputs": [
    {
     "data": {
      "text/plain": [
       "array([[0, 1, 2],\n",
       "       [3, 4, 5],\n",
       "       [6, 7, 8]])"
      ]
     },
     "execution_count": 7,
     "metadata": {},
     "output_type": "execute_result"
    }
   ],
   "source": [
    "mat1 = np.arange(9).reshape(3,3)\n",
    "mat1"
   ]
  },
  {
   "cell_type": "markdown",
   "metadata": {},
   "source": [
    "#### 8. Create a 3x3 identity matrix (★☆☆)"
   ]
  },
  {
   "cell_type": "code",
   "execution_count": 8,
   "metadata": {},
   "outputs": [
    {
     "data": {
      "text/plain": [
       "array([[1., 0., 0.],\n",
       "       [0., 1., 0.],\n",
       "       [0., 0., 1.]])"
      ]
     },
     "execution_count": 8,
     "metadata": {},
     "output_type": "execute_result"
    }
   ],
   "source": [
    "mat2 = np.eye(3)\n",
    "mat2"
   ]
  },
  {
   "cell_type": "markdown",
   "metadata": {},
   "source": [
    "#### 9. Create a 3x3x3 array with random values (★☆☆)"
   ]
  },
  {
   "cell_type": "code",
   "execution_count": 9,
   "metadata": {},
   "outputs": [
    {
     "data": {
      "text/plain": [
       "array([[[0.00700536, 0.48841449, 0.26118256],\n",
       "        [0.30956146, 0.51221308, 0.66957886],\n",
       "        [0.78464147, 0.04074595, 0.31387006]],\n",
       "\n",
       "       [[0.17666207, 0.78587686, 0.89934883],\n",
       "        [0.40374487, 0.99750945, 0.49323676],\n",
       "        [0.39354818, 0.50349564, 0.70404063]],\n",
       "\n",
       "       [[0.35911143, 0.61341735, 0.06247944],\n",
       "        [0.87104658, 0.02188433, 0.21447983],\n",
       "        [0.315571  , 0.88708266, 0.62706987]]])"
      ]
     },
     "execution_count": 9,
     "metadata": {},
     "output_type": "execute_result"
    }
   ],
   "source": [
    "mat3 = np.random.random((3,3,3))\n",
    "mat3"
   ]
  },
  {
   "cell_type": "markdown",
   "metadata": {},
   "source": [
    "#### 10. Create a 10x10 array with random values and find the minimum and maximum values (★☆☆)"
   ]
  },
  {
   "cell_type": "code",
   "execution_count": 10,
   "metadata": {},
   "outputs": [
    {
     "name": "stdout",
     "output_type": "stream",
     "text": [
      "[[0.09550466 0.15516656 0.8256204  0.86649362 0.89897011 0.30101909\n",
      "  0.02792868 0.14827827 0.77040547 0.5604639 ]\n",
      " [0.76049241 0.57086501 0.24683796 0.23579698 0.96320662 0.19262228\n",
      "  0.77415204 0.08947424 0.16477885 0.59577519]\n",
      " [0.16375576 0.94843693 0.07674579 0.79475758 0.51287711 0.27436836\n",
      "  0.41541163 0.6919867  0.7651867  0.99351376]\n",
      " [0.54626856 0.5862311  0.64712907 0.79285269 0.13001088 0.04771931\n",
      "  0.72771217 0.11487526 0.66824352 0.62872685]\n",
      " [0.8475104  0.01954812 0.06949305 0.31569645 0.77002793 0.38827242\n",
      "  0.37987686 0.70341971 0.2889185  0.09028726]\n",
      " [0.7606313  0.5499436  0.53400474 0.03500798 0.64893849 0.20441256\n",
      "  0.9261975  0.73624453 0.48868293 0.03443399]\n",
      " [0.3498769  0.71781221 0.62737401 0.73396962 0.70819556 0.20201975\n",
      "  0.70837692 0.98273131 0.56795932 0.86264535]\n",
      " [0.54723264 0.83465473 0.49565089 0.4022984  0.57999564 0.03674929\n",
      "  0.29736871 0.63157032 0.53501693 0.57436142]\n",
      " [0.09078652 0.25293868 0.54315272 0.01637138 0.68154536 0.05655124\n",
      "  0.38239339 0.97634086 0.42626502 0.77651627]\n",
      " [0.21017935 0.1795932  0.96259881 0.20740242 0.55383813 0.1506726\n",
      "  0.21776959 0.66753398 0.92404735 0.8966973 ]]\n",
      "Minimum Value:  0.0163713755727517\n",
      "Maximum Value:  0.9935137582431145\n"
     ]
    }
   ],
   "source": [
    "mat4 = np.random.random((10,10))\n",
    "print(mat4)\n",
    "print(\"Minimum Value: \",mat4.min())\n",
    "print(\"Maximum Value: \",mat4.max())"
   ]
  },
  {
   "cell_type": "markdown",
   "metadata": {},
   "source": [
    "#### 11. Create a random vector of size 30 and find the mean value (★☆☆)"
   ]
  },
  {
   "cell_type": "code",
   "execution_count": 11,
   "metadata": {},
   "outputs": [
    {
     "data": {
      "text/plain": [
       "0.5222451051031707"
      ]
     },
     "execution_count": 11,
     "metadata": {},
     "output_type": "execute_result"
    }
   ],
   "source": [
    "arr3 = np.random.random(10)\n",
    "arr3.mean()"
   ]
  },
  {
   "cell_type": "markdown",
   "metadata": {},
   "source": [
    "#### 12. Create a 2d array (★☆☆)"
   ]
  },
  {
   "cell_type": "code",
   "execution_count": 12,
   "metadata": {},
   "outputs": [
    {
     "name": "stdout",
     "output_type": "stream",
     "text": [
      "[[3 2 9]\n",
      " [5 6 4]]\n",
      "(2, 3)\n"
     ]
    }
   ],
   "source": [
    "arr4 = np.array([[3, 2, 9], [5, 6, 4]], np.int32)\n",
    "print(arr4)\n",
    "print(arr4.shape)"
   ]
  },
  {
   "cell_type": "markdown",
   "metadata": {},
   "source": [
    "#### 13. Multiply a 5x3 matrix by a 3x2 matrix (real matrix product) (★☆☆)"
   ]
  },
  {
   "cell_type": "code",
   "execution_count": 13,
   "metadata": {},
   "outputs": [
    {
     "name": "stdout",
     "output_type": "stream",
     "text": [
      "First array:\n",
      "[[0.84505059 0.37591042 0.41868341]\n",
      " [0.85413894 0.67043149 0.62119968]\n",
      " [0.76610793 0.98971817 0.41080958]\n",
      " [0.77443481 0.38109348 0.28763421]\n",
      " [0.88568177 0.70468849 0.10215434]]\n",
      "Second array:\n",
      "[[0.4701459  0.93492698]\n",
      " [0.12556484 0.16416079]\n",
      " [0.65416707 0.495983  ]]\n",
      "Product of two arrays(M1XM2):\n",
      "[[0.7183871  1.0594302 ]\n",
      " [0.89212091 1.21672058]\n",
      " [0.7531944  1.08248245]\n",
      " [0.60011011 0.92926228]\n",
      " [0.57170975 0.99439681]]\n"
     ]
    }
   ],
   "source": [
    "M1 = np.random.random((5,3))\n",
    "print(\"First array:\")\n",
    "print(M1)\n",
    "M2 = np.random.random((3,2))\n",
    "print(\"Second array:\")\n",
    "print(M2)\n",
    "Mprod = np.dot(M1, M2)\n",
    "print(\"Product of two arrays(M1XM2):\")\n",
    "print(Mprod)"
   ]
  },
  {
   "cell_type": "markdown",
   "metadata": {},
   "source": [
    "#### 14. Create a 5X5 array with random values and compute statistics such as mean,med,std and var"
   ]
  },
  {
   "cell_type": "code",
   "execution_count": 14,
   "metadata": {},
   "outputs": [
    {
     "name": "stdout",
     "output_type": "stream",
     "text": [
      "Original Array:\n",
      "[[0.76373547 0.54073886 0.45777154 0.4692462  0.58679176]\n",
      " [0.87807232 0.03479953 0.08379369 0.89618207 0.24778688]\n",
      " [0.38644009 0.60220443 0.01440574 0.75762195 0.74563378]\n",
      " [0.1749396  0.63979681 0.0779871  0.78685794 0.34202513]\n",
      " [0.53621027 0.99562315 0.89045156 0.01390288 0.25542206]]\n",
      "Minimum Value= 0.013902877327997332 and Maximum Value= 0.9956231546128761\n"
     ]
    }
   ],
   "source": [
    "mat5 = np.random.random((5,5))\n",
    "print(\"Original Array:\")\n",
    "print(mat5) \n",
    "mat5_min, mat5_max = mat5.min(), mat5.max()\n",
    "print(\"Minimum Value= {} and Maximum Value= {}\".format(mat5_min, mat5_max))\n"
   ]
  },
  {
   "cell_type": "markdown",
   "metadata": {},
   "source": [
    "#### 15. Convert below statement to lowercase and first letter to upper case\n",
    "\n",
    "\"Am I learning new from these python sessions ?\""
   ]
  },
  {
   "cell_type": "code",
   "execution_count": 15,
   "metadata": {},
   "outputs": [
    {
     "name": "stdout",
     "output_type": "stream",
     "text": [
      "Am I learning new from these python sessions ?\n",
      "am i learning new from these python sessions ?\n",
      "Am i learning new from these python sessions ?\n"
     ]
    }
   ],
   "source": [
    "str=\"Am I learning new from these python sessions ?\"\n",
    "print(str)\n",
    "print(str.lower())\n",
    "str1=str.capitalize()\n",
    "print(str1)\n"
   ]
  },
  {
   "cell_type": "markdown",
   "metadata": {},
   "source": [
    "#### 16. Convert your response (for above question)  to upper case"
   ]
  },
  {
   "cell_type": "code",
   "execution_count": 16,
   "metadata": {},
   "outputs": [
    {
     "data": {
      "text/plain": [
       "'AM I LEARNING NEW FROM THESE PYTHON SESSIONS ?'"
      ]
     },
     "execution_count": 16,
     "metadata": {},
     "output_type": "execute_result"
    }
   ],
   "source": [
    "str1.upper()"
   ]
  },
  {
   "cell_type": "markdown",
   "metadata": {},
   "source": [
    "#### 17. Create 4X4 array and combine another 2X4 array vertically"
   ]
  },
  {
   "cell_type": "code",
   "execution_count": 17,
   "metadata": {},
   "outputs": [
    {
     "name": "stdout",
     "output_type": "stream",
     "text": [
      "Matrix-1: \n",
      "[[ 0  1  2  3]\n",
      " [ 4  5  6  7]\n",
      " [ 8  9 10 11]\n",
      " [12 13 14 15]]\n",
      "Matrix-2: \n",
      "[[16 17 18 19]\n",
      " [20 21 22 23]]\n",
      "Matrix- Concatenate Horizonatally: \n",
      "[[ 0  1  2  3]\n",
      " [ 4  5  6  7]\n",
      " [ 8  9 10 11]\n",
      " [12 13 14 15]\n",
      " [16 17 18 19]\n",
      " [20 21 22 23]]\n",
      "Matrix Concatenate Vertically: \n",
      "[[ 0  1  2  3 16 20]\n",
      " [ 4  5  6  7 17 21]\n",
      " [ 8  9 10 11 18 22]\n",
      " [12 13 14 15 19 23]]\n"
     ]
    }
   ],
   "source": [
    "Mat_A = np.arange(0,16).reshape(4,4)\n",
    "Mat_B = np.arange(16,24).reshape(2,4)\n",
    "print(\"Matrix-1: \")\n",
    "print(Mat_A)\n",
    "print(\"Matrix-2: \")\n",
    "print(Mat_B)\n",
    "print(\"Matrix- Concatenate Horizonatally: \")\n",
    "Mat_C=np.concatenate((Mat_A,Mat_B))\n",
    "print(Mat_C)\n",
    "print(\"Matrix Concatenate Vertically: \")\n",
    "print(np.vstack((Mat_A.T, Mat_B)).T)"
   ]
  }
 ],
 "metadata": {
  "kernelspec": {
   "display_name": "Python 3",
   "language": "python",
   "name": "python3"
  },
  "language_info": {
   "codemirror_mode": {
    "name": "ipython",
    "version": 3
   },
   "file_extension": ".py",
   "mimetype": "text/x-python",
   "name": "python",
   "nbconvert_exporter": "python",
   "pygments_lexer": "ipython3",
   "version": "3.7.6"
  }
 },
 "nbformat": 4,
 "nbformat_minor": 4
}
